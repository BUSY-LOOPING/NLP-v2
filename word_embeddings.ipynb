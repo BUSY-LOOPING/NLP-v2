{
 "cells": [
  {
   "cell_type": "code",
   "execution_count": 3,
   "id": "4ee7f720-58a6-4ee2-aabd-1e3f4e8c3258",
   "metadata": {},
   "outputs": [],
   "source": [
    "from gensim.models import KeyedVectors\n",
    "import os"
   ]
  },
  {
   "cell_type": "code",
   "execution_count": 4,
   "id": "ca70d794-08d9-4e71-a666-ff0e5a62793f",
   "metadata": {},
   "outputs": [],
   "source": [
    "word_vectors = KeyedVectors.load_word2vec_format(\n",
    "    os.path.join('data', 'GoogleNews-vectors-negative300.bin'),\n",
    "    binary=True\n",
    ")"
   ]
  },
  {
   "cell_type": "code",
   "execution_count": 5,
   "id": "8c313591-87d4-4a90-a5dd-ef5ed3f00201",
   "metadata": {},
   "outputs": [],
   "source": [
    "def find_analogies(w1, w2, w3) :\n",
    "    #w1 : w2 :: ? : w3\n",
    "    r = word_vectors.most_similar(positive=[w1, w3], negative=[w2])\n",
    "    print(f'{w1} : {w2} :: {r[0][0]} : {w3}')"
   ]
  },
  {
   "cell_type": "code",
   "execution_count": 6,
   "id": "27033573-e318-422f-95a3-1c89add16d9d",
   "metadata": {},
   "outputs": [
    {
     "name": "stdout",
     "output_type": "stream",
     "text": [
      "king : man :: queen : woman\n"
     ]
    }
   ],
   "source": [
    "find_analogies('king', 'man', 'woman')"
   ]
  },
  {
   "cell_type": "code",
   "execution_count": 7,
   "id": "8adc5175-102d-413d-ba4a-185ce183b33c",
   "metadata": {},
   "outputs": [
    {
     "name": "stdout",
     "output_type": "stream",
     "text": [
      "france : paris :: england : london\n"
     ]
    }
   ],
   "source": [
    "find_analogies('france', 'paris', 'london')"
   ]
  },
  {
   "cell_type": "code",
   "execution_count": 8,
   "id": "6b945f44-c83b-42c6-9fcd-c752a87dd8a7",
   "metadata": {},
   "outputs": [
    {
     "name": "stdout",
     "output_type": "stream",
     "text": [
      "france : paris :: italy : rome\n"
     ]
    }
   ],
   "source": [
    "find_analogies('france', 'paris', 'rome')"
   ]
  },
  {
   "cell_type": "code",
   "execution_count": 9,
   "id": "e3c57c42-8555-402f-bde5-2a3c0aff4662",
   "metadata": {},
   "outputs": [
    {
     "name": "stdout",
     "output_type": "stream",
     "text": [
      "france : french :: england : english\n"
     ]
    }
   ],
   "source": [
    "find_analogies('france', 'french', 'english')"
   ]
  },
  {
   "cell_type": "code",
   "execution_count": 10,
   "id": "bf86fe8f-5a99-47b6-8e37-7d75e5f10224",
   "metadata": {},
   "outputs": [
    {
     "name": "stdout",
     "output_type": "stream",
     "text": [
      "japan : japanese :: tibet : chinese\n"
     ]
    }
   ],
   "source": [
    "find_analogies('japan', 'japanese', 'chinese')"
   ]
  },
  {
   "cell_type": "code",
   "execution_count": 11,
   "id": "04dfbeb9-d245-46a2-9c09-2ceb3ad60a9b",
   "metadata": {},
   "outputs": [
    {
     "name": "stdout",
     "output_type": "stream",
     "text": [
      "japan : japanese :: italy : italian\n"
     ]
    }
   ],
   "source": [
    "find_analogies('japan', 'japanese', 'italian')"
   ]
  },
  {
   "cell_type": "code",
   "execution_count": 12,
   "id": "c927d1b6-d879-4f5a-b39a-b4563b308d26",
   "metadata": {},
   "outputs": [],
   "source": [
    "def nearest_neighbors(w) :\n",
    "    r = word_vectors.most_similar(positive=[w])\n",
    "    print(f'Neighbours of {w} : ')\n",
    "    for word, score in r:\n",
    "        print(f'{word}')"
   ]
  },
  {
   "cell_type": "code",
   "execution_count": 13,
   "id": "44b996a9-9d0c-415b-b43e-26f6e990a336",
   "metadata": {},
   "outputs": [
    {
     "name": "stdout",
     "output_type": "stream",
     "text": [
      "Neighbours of king : \n",
      "kings\n",
      "queen\n",
      "monarch\n",
      "crown_prince\n",
      "prince\n",
      "sultan\n",
      "ruler\n",
      "princes\n",
      "Prince_Paras\n",
      "throne\n"
     ]
    }
   ],
   "source": [
    "nearest_neighbors('king')"
   ]
  },
  {
   "cell_type": "code",
   "execution_count": 14,
   "id": "3c955ad9-8088-4578-a49e-86aa901beecc",
   "metadata": {},
   "outputs": [
    {
     "name": "stdout",
     "output_type": "stream",
     "text": [
      "Neighbours of queen : \n",
      "queens\n",
      "princess\n",
      "king\n",
      "monarch\n",
      "very_pampered_McElhatton\n",
      "Queen\n",
      "NYC_anglophiles_aflutter\n",
      "Queen_Consort\n",
      "princesses\n",
      "royal\n"
     ]
    }
   ],
   "source": [
    "nearest_neighbors('queen')"
   ]
  },
  {
   "cell_type": "code",
   "execution_count": 15,
   "id": "bd5b04b4-c5d2-4408-86f8-8fc2d45cd727",
   "metadata": {},
   "outputs": [
    {
     "name": "stdout",
     "output_type": "stream",
     "text": [
      "Neighbours of france : \n",
      "spain\n",
      "french\n",
      "germany\n",
      "europe\n",
      "italy\n",
      "england\n",
      "european\n",
      "belgium\n",
      "usa\n",
      "serbia\n"
     ]
    }
   ],
   "source": [
    "nearest_neighbors('france')"
   ]
  },
  {
   "cell_type": "code",
   "execution_count": null,
   "id": "c000096e-9204-4576-86fa-835d95a7a5b3",
   "metadata": {},
   "outputs": [],
   "source": []
  }
 ],
 "metadata": {
  "kernelspec": {
   "display_name": "data_science",
   "language": "python",
   "name": "data_science"
  },
  "language_info": {
   "codemirror_mode": {
    "name": "ipython",
    "version": 3
   },
   "file_extension": ".py",
   "mimetype": "text/x-python",
   "name": "python",
   "nbconvert_exporter": "python",
   "pygments_lexer": "ipython3",
   "version": "3.10.9"
  }
 },
 "nbformat": 4,
 "nbformat_minor": 5
}
