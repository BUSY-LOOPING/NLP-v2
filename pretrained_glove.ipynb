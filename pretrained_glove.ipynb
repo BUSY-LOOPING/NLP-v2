{
 "cells": [
  {
   "cell_type": "markdown",
   "id": "80bdff4f-524d-4c10-b056-b6a075cef02e",
   "metadata": {},
   "source": [
    "- GloVe is in plain text and trained on relatively small vocabulary than pretrained word2vec\n",
    "- advantages - parse using python\n",
    "\n",
    "Link - [Stanford Glove link](https://nlp.stanford.edu/data/glove.6B.zip)"
   ]
  },
  {
   "cell_type": "code",
   "execution_count": null,
   "id": "5f6d861c-42ae-47ee-94ba-df5286b21ddd",
   "metadata": {},
   "outputs": [],
   "source": [
    "!jupyter labextension disable @jupyterlab/cell-toolbar-extension"
   ]
  },
  {
   "cell_type": "code",
   "execution_count": 4,
   "id": "83a372c0-296e-499d-8cef-f911eb7964e6",
   "metadata": {},
   "outputs": [],
   "source": [
    "import numpy as np\n",
    "from sklearn.metrics.pairwise import pairwise_distances\n",
    "import os"
   ]
  },
  {
   "cell_type": "code",
   "execution_count": 3,
   "id": "26ab3a77-0b19-458a-9725-dcd62feab386",
   "metadata": {},
   "outputs": [],
   "source": [
    "def dist1(a, b) : #euclidean distance\n",
    "    return np.linalg.norm(a - b)\n",
    "\n",
    "def dist2(a, b) :\n",
    "    return 1 - a.dot(b) / (np.linalg.norm(a) * np.linalg.norm(b))"
   ]
  },
  {
   "cell_type": "code",
   "execution_count": 17,
   "id": "dd603bc8-2e0a-4e41-a29c-b3ff8cb6c060",
   "metadata": {},
   "outputs": [
    {
     "name": "stdout",
     "output_type": "stream",
     "text": [
      "Reading Embeddings...\n",
      "Total Embeddings found : 400000\n"
     ]
    }
   ],
   "source": [
    "print('Reading Embeddings...')\n",
    "glove_embedding = {}\n",
    "with open(os.path.join('data', 'glove.6B', 'glove.6B.50d.txt'), encoding='utf-8') as f:\n",
    "    for line in f :\n",
    "        split = line.split()\n",
    "        glove_embedding[split[0]] = np.fromiter(split[1:], dtype=np.float32)\n",
    "\n",
    "print(f'Total Embeddings found : {len(glove_embedding)}')"
   ]
  },
  {
   "cell_type": "code",
   "execution_count": 29,
   "id": "486efd30-7f96-4c12-b370-6b901ce48451",
   "metadata": {},
   "outputs": [
    {
     "name": "stdout",
     "output_type": "stream",
     "text": [
      "The Euclidean distance : 3.4777565002441406 \n",
      "The Cosine distance : 0.21609562635421753\n"
     ]
    }
   ],
   "source": [
    "print(f'''The Euclidean distance : {dist1(glove_embedding[\"king\"], glove_embedding[\"queen\"])} \n",
    "The Cosine distance : {dist2(glove_embedding[\"king\"], glove_embedding[\"queen\"])}''')"
   ]
  },
  {
   "cell_type": "code",
   "execution_count": 30,
   "id": "5c28df7e-eac1-4e8f-9e32-e5d1a836c10d",
   "metadata": {},
   "outputs": [
    {
     "name": "stdout",
     "output_type": "stream",
     "text": [
      "The Euclidean distance : 7.025454521179199 \n",
      "The Cosine distance : 0.7648409008979797\n"
     ]
    }
   ],
   "source": [
    "print(f'''The Euclidean distance : {dist1(glove_embedding[\"king\"], glove_embedding[\"water\"])} \n",
    "The Cosine distance : {dist2(glove_embedding[\"king\"], glove_embedding[\"water\"])}''')"
   ]
  },
  {
   "cell_type": "code",
   "execution_count": 31,
   "id": "aed6a5ab-856d-4c00-b12f-e8530c60975c",
   "metadata": {
    "collapsed": true,
    "jupyter": {
     "outputs_hidden": true,
     "source_hidden": true
    },
    "tags": []
   },
   "outputs": [
    {
     "name": "stdout",
     "output_type": "stream",
     "text": [
      "[[ 0.          5.19615242 10.39230485]\n",
      " [ 5.19615242  0.          5.19615242]\n",
      " [10.39230485  5.19615242  0.        ]]\n"
     ]
    }
   ],
   "source": [
    "#just a demo\n",
    "# Define a collection of data points as a NumPy array or a list of arrays\n",
    "data_points = [[1, 2, 3], \n",
    "               [4, 5, 6], \n",
    "               [7, 8, 9]]\n",
    "\n",
    "# Calculate pairwise distances using a specific metric (e.g., Euclidean distance)\n",
    "distances = pairwise_distances(data_points, metric='euclidean')\n",
    "\n",
    "# The 'distances' variable will contain the pairwise distances between data points\n",
    "print(distances)\n"
   ]
  },
  {
   "cell_type": "code",
   "execution_count": 128,
   "id": "2ce80570-ac48-48ad-8cb8-8ed0a2e670be",
   "metadata": {},
   "outputs": [],
   "source": [
    "def find_analogies(w1, w2, w3, metric = 'euclidean') :\n",
    "    #w1 : w2 :: ? : w3\n",
    "    vector = glove_embedding[w1] + glove_embedding[w3] - glove_embedding[w2]\n",
    "    #now find all the vectors closest to this vector\n",
    "    removed_embedding = glove_embedding.copy()\n",
    "    for w in [w1, w2, w3] :\n",
    "        removed_embedding.pop(w)\n",
    "        \n",
    "    distance_vector = pairwise_distances(X = [vector], Y = list(removed_embedding.values()), metric=metric).reshape(len(removed_embedding))\n",
    "    idx_r = np.argmin(distance_vector)\n",
    "    r = list(removed_embedding.keys())[idx_r]\n",
    "    print(f'{w1} : {w2} :: {r} : {w3}')\n",
    "    \n",
    "def nearest_neighbors(w, n = 3, metric = 'euclidean') :\n",
    "    vector = glove_embedding[w]\n",
    "    distance_vector = pairwise_distances(X = [vector], Y = list(glove_embedding.values()), metric = metric).reshape(len(glove_embedding))\n",
    "    idxs = distance_vector.argsort()[1:n+1]\n",
    "    print(f'Neighbours of {w} : ')\n",
    "    keys = list(glove_embedding.keys())\n",
    "    for idx in idxs :\n",
    "        print(f'{keys[idx]}')"
   ]
  },
  {
   "cell_type": "code",
   "execution_count": 118,
   "id": "97df28d0-f3cb-4a29-9c29-b5ef1eae5d89",
   "metadata": {},
   "outputs": [
    {
     "name": "stdout",
     "output_type": "stream",
     "text": [
      "king : man :: queen : woman\n"
     ]
    }
   ],
   "source": [
    "find_analogies('king', 'man', 'woman')"
   ]
  },
  {
   "cell_type": "code",
   "execution_count": 119,
   "id": "dd0fc666-503e-4d23-a92f-1ad5570e1995",
   "metadata": {},
   "outputs": [
    {
     "name": "stdout",
     "output_type": "stream",
     "text": [
      "france : paris :: britain : london\n"
     ]
    }
   ],
   "source": [
    "find_analogies('france', 'paris', 'london')"
   ]
  },
  {
   "cell_type": "code",
   "execution_count": 120,
   "id": "2f146960-db0a-42c0-bae6-3456d58b1f36",
   "metadata": {},
   "outputs": [
    {
     "name": "stdout",
     "output_type": "stream",
     "text": [
      "france : paris :: italy : rome\n"
     ]
    }
   ],
   "source": [
    "find_analogies('france', 'paris', 'rome')"
   ]
  },
  {
   "cell_type": "code",
   "execution_count": 121,
   "id": "1150e765-41c4-488b-a818-1ede6bba3f51",
   "metadata": {},
   "outputs": [
    {
     "name": "stdout",
     "output_type": "stream",
     "text": [
      "france : french :: england : english\n"
     ]
    }
   ],
   "source": [
    "find_analogies('france', 'french', 'english')"
   ]
  },
  {
   "cell_type": "code",
   "execution_count": 122,
   "id": "149d32cf-d46d-4311-9538-ebacf724bd08",
   "metadata": {},
   "outputs": [
    {
     "name": "stdout",
     "output_type": "stream",
     "text": [
      "japan : japanese :: china : chinese\n"
     ]
    }
   ],
   "source": [
    "find_analogies('japan', 'japanese', 'chinese')"
   ]
  },
  {
   "cell_type": "code",
   "execution_count": 129,
   "id": "4aa9a384-4a6c-43a4-99d6-52e2c4075388",
   "metadata": {},
   "outputs": [
    {
     "name": "stdout",
     "output_type": "stream",
     "text": [
      "Neighbours of king : \n",
      "prince\n",
      "queen\n",
      "uncle\n",
      "ii\n",
      "grandson\n",
      "brother\n",
      "kingdom\n",
      "son\n",
      "nephew\n",
      "elder\n"
     ]
    }
   ],
   "source": [
    "nearest_neighbors('king', n = 10)"
   ]
  },
  {
   "cell_type": "code",
   "execution_count": 134,
   "id": "02fabcff-c1a0-43ba-8502-0d3d81ab43c4",
   "metadata": {},
   "outputs": [
    {
     "name": "stdout",
     "output_type": "stream",
     "text": [
      "Neighbours of king : \n",
      "prince\n",
      "queen\n",
      "ii\n",
      "emperor\n",
      "son\n",
      "uncle\n",
      "kingdom\n",
      "throne\n",
      "brother\n",
      "ruler\n"
     ]
    }
   ],
   "source": [
    "nearest_neighbors('king', n = 10, metric='cosine')"
   ]
  },
  {
   "cell_type": "code",
   "execution_count": 130,
   "id": "81a20588-2547-432b-b700-c9f95ea6b3c0",
   "metadata": {},
   "outputs": [
    {
     "name": "stdout",
     "output_type": "stream",
     "text": [
      "Neighbours of queen : \n",
      "princess\n",
      "lady\n",
      "elizabeth\n",
      "prince\n",
      "coronation\n",
      "king\n",
      "consort\n",
      "victoria\n",
      "crown\n",
      "bride\n"
     ]
    }
   ],
   "source": [
    "nearest_neighbors('queen', n= 10)"
   ]
  },
  {
   "cell_type": "code",
   "execution_count": 136,
   "id": "79128deb-58d6-4904-b689-29cda6289502",
   "metadata": {},
   "outputs": [
    {
     "name": "stdout",
     "output_type": "stream",
     "text": [
      "Neighbours of france : \n",
      "french\n",
      "belgium\n",
      "paris\n",
      "netherlands\n",
      "spain\n",
      "italy\n",
      "switzerland\n",
      "germany\n",
      "europe\n",
      "belgian\n"
     ]
    }
   ],
   "source": [
    "nearest_neighbors('france', n=10)"
   ]
  },
  {
   "cell_type": "code",
   "execution_count": null,
   "id": "0fa6a95e-eea7-462d-9873-8d069775fed0",
   "metadata": {},
   "outputs": [],
   "source": []
  }
 ],
 "metadata": {
  "kernelspec": {
   "display_name": "data_science",
   "language": "python",
   "name": "data_science"
  },
  "language_info": {
   "codemirror_mode": {
    "name": "ipython",
    "version": 3
   },
   "file_extension": ".py",
   "mimetype": "text/x-python",
   "name": "python",
   "nbconvert_exporter": "python",
   "pygments_lexer": "ipython3",
   "version": "3.10.9"
  }
 },
 "nbformat": 4,
 "nbformat_minor": 5
}
