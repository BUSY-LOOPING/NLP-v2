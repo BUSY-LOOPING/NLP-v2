{
 "cells": [
  {
   "cell_type": "code",
   "execution_count": 96,
   "id": "997c6cb5-ceb6-46db-a899-54fcdbbafd22",
   "metadata": {},
   "outputs": [],
   "source": [
    "import pandas as pd\n",
    "import nltk\n",
    "import numpy as np\n",
    "import matplotlib.pyplot as plt\n",
    "from bs4 import BeautifulSoup\n",
    "from nltk.corpus import stopwords\n",
    "import string\n",
    "import os\n",
    "from nltk.stem import WordNetLemmatizer\n",
    "from collections import Counter\n",
    "import re"
   ]
  },
  {
   "cell_type": "code",
   "execution_count": null,
   "id": "4f1476b3-5dc6-460d-9d49-b03578fb621f",
   "metadata": {},
   "outputs": [],
   "source": [
    "os.chdir(os.path.join('..' , 'NLP', 'data'))"
   ]
  },
  {
   "cell_type": "code",
   "execution_count": 108,
   "id": "9be3bab5-efbb-4762-8ecb-88f62879ad12",
   "metadata": {},
   "outputs": [
    {
     "name": "stdout",
     "output_type": "stream",
     "text": [
      "Length of documents : 2000\n"
     ]
    }
   ],
   "source": [
    "soup = BeautifulSoup(open('positive.review', encoding = 'utf-8'))\n",
    "review_texts = soup.findAll('review_text')\n",
    "soup = BeautifulSoup(open('negative.review', encoding = 'utf-8'))\n",
    "review_texts += soup.findAll('review_text')\n",
    "print('Length of documents :', len(review_texts))"
   ]
  },
  {
   "cell_type": "code",
   "execution_count": 109,
   "id": "c656c3a6-15c9-402f-8950-d1b69b22fee8",
   "metadata": {},
   "outputs": [
    {
     "data": {
      "text/plain": [
       "427"
      ]
     },
     "execution_count": 109,
     "metadata": {},
     "output_type": "execute_result"
    }
   ],
   "source": [
    "stop_words = [line for line in open('stopwords.txt', encoding='utf-8')]\n",
    "len(stop_words)"
   ]
  },
  {
   "cell_type": "code",
   "execution_count": 110,
   "id": "626f3ffc-239b-4fb9-ad92-ec60524a2ae8",
   "metadata": {},
   "outputs": [
    {
     "data": {
      "text/plain": [
       "599"
      ]
     },
     "execution_count": 110,
     "metadata": {},
     "output_type": "execute_result"
    }
   ],
   "source": [
    "stop_words = set((stopwords.words('english') + stop_words))\n",
    "len(stop_words)"
   ]
  },
  {
   "cell_type": "code",
   "execution_count": 111,
   "id": "c6f79e4d-8475-4f59-b325-575a977ce9ce",
   "metadata": {},
   "outputs": [
    {
     "name": "stdout",
     "output_type": "stream",
     "text": [
      "Length of word index mapping : 10471\n"
     ]
    }
   ],
   "source": [
    "word_net_lemmatizer = WordNetLemmatizer()\n",
    "\n",
    "def my_tokenize(s) :\n",
    "    s = s.lower()\n",
    "    s = re.sub(r\"\\d\", \"\", s)\n",
    "    s = s.translate(str.maketrans('', '', string.punctuation))\n",
    "    tokens = nltk.tokenize.word_tokenize(s)\n",
    "    tokens = [word_net_lemmatizer.lemmatize(token) for token in tokens if token not in stop_words]\n",
    "    return tokens\n",
    "\n",
    "word_index = {}\n",
    "tokenized_texts = []\n",
    "idx = 0\n",
    "\n",
    "for review_text in review_texts :\n",
    "    text_literal = review_text.text\n",
    "    tokenized = my_tokenize(text_literal)\n",
    "    tokenized_texts.append(tokenized)\n",
    "    for word in tokenized :\n",
    "        if word not in word_index :\n",
    "            word_index[word] = idx\n",
    "            idx += 1\n",
    "            \n",
    "word_index['<unknown>'] = idx\n",
    "print('Length of word index mapping :', len(word_index))"
   ]
  },
  {
   "cell_type": "code",
   "execution_count": 112,
   "id": "0f90989f-4ff6-48be-9ca0-4d87fe61e5d4",
   "metadata": {},
   "outputs": [],
   "source": [
    "N = len(review_texts)\n",
    "D = len(word_index)"
   ]
  },
  {
   "cell_type": "code",
   "execution_count": 113,
   "id": "7f788716-4f80-417d-a769-c02b84d3c585",
   "metadata": {},
   "outputs": [
    {
     "data": {
      "text/plain": [
       "array([[1., 1., 2., ..., 0., 0., 0.],\n",
       "       [0., 0., 0., ..., 0., 0., 0.],\n",
       "       [0., 2., 0., ..., 0., 0., 0.],\n",
       "       ...,\n",
       "       [0., 0., 0., ..., 0., 0., 0.],\n",
       "       [0., 0., 0., ..., 0., 0., 0.],\n",
       "       [0., 0., 0., ..., 1., 1., 0.]])"
      ]
     },
     "execution_count": 113,
     "metadata": {},
     "output_type": "execute_result"
    }
   ],
   "source": [
    "#term-frequency matrix\n",
    "tf = np.zeros((N, D))\n",
    "\n",
    "for index, tokenized_text in enumerate(tokenized_texts) :\n",
    "    for toknized_word in tokenized_text :\n",
    "        tf[index, word_index[toknized_word]] += 1\n",
    "        \n",
    "tf"
   ]
  },
  {
   "cell_type": "code",
   "execution_count": 114,
   "id": "767fcede-9d6a-45e2-a412-7507b816e27a",
   "metadata": {},
   "outputs": [
    {
     "data": {
      "text/plain": [
       "array([3.4029053 , 3.24011017, 4.63111042, ..., 7.90825515, 7.90825515,\n",
       "       8.60140233])"
      ]
     },
     "execution_count": 114,
     "metadata": {},
     "output_type": "execute_result"
    }
   ],
   "source": [
    "#inverse document frequency\n",
    "idf = np.zeros((D))\n",
    "N_t = (tf > 0).sum(axis = 0) #number of documents which contain the term t\n",
    "idf = np.log((N + 1) / (N_t + 1)) + 1  #smooth idf\n",
    "idf"
   ]
  },
  {
   "cell_type": "code",
   "execution_count": 115,
   "id": "90836080-0080-4f47-8734-111bd87b236a",
   "metadata": {},
   "outputs": [
    {
     "data": {
      "text/plain": [
       "array([[3.4029053 , 3.24011017, 9.26222084, ..., 0.        , 0.        ,\n",
       "        0.        ],\n",
       "       [0.        , 0.        , 0.        , ..., 0.        , 0.        ,\n",
       "        0.        ],\n",
       "       [0.        , 6.48022034, 0.        , ..., 0.        , 0.        ,\n",
       "        0.        ],\n",
       "       ...,\n",
       "       [0.        , 0.        , 0.        , ..., 0.        , 0.        ,\n",
       "        0.        ],\n",
       "       [0.        , 0.        , 0.        , ..., 0.        , 0.        ,\n",
       "        0.        ],\n",
       "       [0.        , 0.        , 0.        , ..., 7.90825515, 7.90825515,\n",
       "        0.        ]])"
      ]
     },
     "execution_count": 115,
     "metadata": {},
     "output_type": "execute_result"
    }
   ],
   "source": [
    "tf_idf = tf * idf\n",
    "tf_idf"
   ]
  },
  {
   "cell_type": "code",
   "execution_count": 116,
   "id": "03b6c0be-1bd5-466d-a68a-673b9d90bf89",
   "metadata": {},
   "outputs": [
    {
     "data": {
      "text/plain": [
       "array([[0.08772845, 0.08353152, 0.23878427, ..., 0.        , 0.        ,\n",
       "        0.        ],\n",
       "       [0.        , 0.        , 0.        , ..., 0.        , 0.        ,\n",
       "        0.        ],\n",
       "       [0.        , 0.24330697, 0.        , ..., 0.        , 0.        ,\n",
       "        0.        ],\n",
       "       ...,\n",
       "       [0.        , 0.        , 0.        , ..., 0.        , 0.        ,\n",
       "        0.        ],\n",
       "       [0.        , 0.        , 0.        , ..., 0.        , 0.        ,\n",
       "        0.        ],\n",
       "       [0.        , 0.        , 0.        , ..., 0.16471291, 0.16471291,\n",
       "        0.        ]])"
      ]
     },
     "execution_count": 116,
     "metadata": {},
     "output_type": "execute_result"
    }
   ],
   "source": [
    "#normalizing l2 norm\n",
    "tf_idf = tf_idf / (np.linalg.norm(tf_idf, axis = 1, keepdims=True))\n",
    "tf_idf"
   ]
  },
  {
   "cell_type": "code",
   "execution_count": 117,
   "id": "db4952dd-9a85-43d0-8881-c6ef0d582163",
   "metadata": {},
   "outputs": [
    {
     "data": {
      "text/plain": [
       "array([[1.],\n",
       "       [1.],\n",
       "       [1.],\n",
       "       [1.],\n",
       "       [1.]])"
      ]
     },
     "execution_count": 117,
     "metadata": {},
     "output_type": "execute_result"
    }
   ],
   "source": [
    "#checking\n",
    "np.linalg.norm(tf_idf, axis = 1, keepdims=True)[:5]"
   ]
  },
  {
   "cell_type": "code",
   "execution_count": 133,
   "id": "ea276d4b-7a54-4dc9-bf35-3c2b823a13d2",
   "metadata": {},
   "outputs": [
    {
     "name": "stdout",
     "output_type": "stream",
     "text": [
      "Original Text : Unleashing Gaming Power and Immersive Experience\n",
      "The Acer Nitro 5 17.3\" Full HD IPS 144Hz Gaming Laptop is a powerhouse that has truly exceeded my gaming expectations, earning a well-deserved 5-star rating. This laptop delivers exceptional performance, stunning visuals, and an immersive gaming experience that is second to none.\n",
      "\n",
      "The standout feature of the Acer Nitro 5 is its powerful hardware configuration. The Intel Core i5-12500H processor combined with the NVIDIA GeForce RTX 3050 graphics card ensures smooth gameplay and seamless multitasking. Whether I'm engaged in intense gaming sessions or running resource-demanding applications, this laptop handles everything with impressive speed and efficiency.\n",
      "\n",
      "The 17.3\" Full HD IPS display with a 144Hz refresh rate is a game-changer. The visuals are incredibly crisp, and the high refresh rate guarantees smooth and fluid motion, eliminating any lag or stuttering. I am completely immersed in my games, enjoying vibrant colors and impressive detail that brings every virtual world to life.\n",
      "\n",
      "The 512GB PCIe Gen 4 SSD provides ample storage space for my games, applications, and media files. The lightning-fast read and write speeds ensure quick load times, allowing me to jump into my favorite games without delay. The responsiveness of the storage drive enhances my overall gaming experience, keeping me in the action without interruption.\n",
      "\n",
      "The design of the Acer Nitro 5 is sleek and stylish, with its black chassis and red accents giving it a bold and gaming-centric look. The build quality feels sturdy, and the keyboard is comfortable to use, providing an excellent tactile experience. The laptop's cooling system efficiently dissipates heat, preventing any overheating issues even during intense gaming sessions.\n",
      "\n",
      "Connectivity options on the Acer Nitro 5 are plentiful. The laptop features an array of ports, including USB, HDMI, and Ethernet, allowing me to connect peripherals and external displays effortlessly. The inclusion of Wi-Fi 6 ensures fast and stable wireless connections, enabling smooth online gaming and lag-free multiplayer experiences.\n",
      "\n",
      "In conclusion, the Acer Nitro 5 17.3\" Full HD IPS 144Hz Gaming Laptop is a true gaming powerhouse that offers exceptional performance, stunning visuals, and immersive gameplay. With its powerful hardware, vibrant display, ample storage, and robust connectivity options, it has elevated my gaming experience to new heights. If you're seeking a high-performance gaming laptop, I highly recommend the Acer Nitro 5 as an investment that will deliver endless gaming excitement\n",
      "Top Terms : ['gaming' 'acer' 'laptop' 'experience' 'hz' 'ip' 'hd' 'smooth' 'gameplay'\n",
      " 'ensures' 'intense' 'ample' 'storage' 'stunning' 'exceptional' 'refresh'\n",
      " 'game' 'session' 'connectivity' 'display']\n"
     ]
    }
   ],
   "source": [
    "#show the top 5 terms (in terms of tf-idf)\n",
    "def show_top_words(sentence, count=5) :\n",
    "    tokenized = my_tokenize(sentence)\n",
    "    term_frequency = Counter(tokenized)\n",
    "    # Calculate the TF-IDF scores for the terms in the sentence\n",
    "    tf_idf_scores = np.zeros((D)) # Initialize an array of size len(word_index) for TF-IDF scores\n",
    "    \n",
    "    # Loop through the tokenized words and calculate TF-IDF scores\n",
    "    for word in tokenized :\n",
    "        if word not in word_index :\n",
    "            word = '<unknown>'\n",
    "        term_index = word_index[word]\n",
    "        tf_value = term_frequency[word]\n",
    "        idf_value = idf[term_index]\n",
    "\n",
    "        # Calculate the TF-IDF score for the term\n",
    "        tf_idf_scores[term_index] = tf_value * idf_value\n",
    "        \n",
    "    # Get the indices of the top 'count' TF-IDF scores\n",
    "    top_indices = np.argsort(tf_idf_scores)[::-1][:count]\n",
    "    \n",
    "    # Get the corresponding terms for the top indices\n",
    "    top_words = np.array(list(word_index.keys()))[top_indices]\n",
    "    return top_words\n",
    "\n",
    "text =  '''Unleashing Gaming Power and Immersive Experience\n",
    "The Acer Nitro 5 17.3\" Full HD IPS 144Hz Gaming Laptop is a powerhouse that has truly exceeded my gaming expectations, earning a well-deserved 5-star rating. This laptop delivers exceptional performance, stunning visuals, and an immersive gaming experience that is second to none.\n",
    "\n",
    "The standout feature of the Acer Nitro 5 is its powerful hardware configuration. The Intel Core i5-12500H processor combined with the NVIDIA GeForce RTX 3050 graphics card ensures smooth gameplay and seamless multitasking. Whether I'm engaged in intense gaming sessions or running resource-demanding applications, this laptop handles everything with impressive speed and efficiency.\n",
    "\n",
    "The 17.3\" Full HD IPS display with a 144Hz refresh rate is a game-changer. The visuals are incredibly crisp, and the high refresh rate guarantees smooth and fluid motion, eliminating any lag or stuttering. I am completely immersed in my games, enjoying vibrant colors and impressive detail that brings every virtual world to life.\n",
    "\n",
    "The 512GB PCIe Gen 4 SSD provides ample storage space for my games, applications, and media files. The lightning-fast read and write speeds ensure quick load times, allowing me to jump into my favorite games without delay. The responsiveness of the storage drive enhances my overall gaming experience, keeping me in the action without interruption.\n",
    "\n",
    "The design of the Acer Nitro 5 is sleek and stylish, with its black chassis and red accents giving it a bold and gaming-centric look. The build quality feels sturdy, and the keyboard is comfortable to use, providing an excellent tactile experience. The laptop's cooling system efficiently dissipates heat, preventing any overheating issues even during intense gaming sessions.\n",
    "\n",
    "Connectivity options on the Acer Nitro 5 are plentiful. The laptop features an array of ports, including USB, HDMI, and Ethernet, allowing me to connect peripherals and external displays effortlessly. The inclusion of Wi-Fi 6 ensures fast and stable wireless connections, enabling smooth online gaming and lag-free multiplayer experiences.\n",
    "\n",
    "In conclusion, the Acer Nitro 5 17.3\" Full HD IPS 144Hz Gaming Laptop is a true gaming powerhouse that offers exceptional performance, stunning visuals, and immersive gameplay. With its powerful hardware, vibrant display, ample storage, and robust connectivity options, it has elevated my gaming experience to new heights. If you're seeking a high-performance gaming laptop, I highly recommend the Acer Nitro 5 as an investment that will deliver endless gaming excitement'''\n",
    "print('Original Text :', text)\n",
    "print('Top Terms :', show_top_words(text, count=20))"
   ]
  },
  {
   "cell_type": "code",
   "execution_count": null,
   "id": "a5e0b74d-4cba-4704-881e-99400a9e44fa",
   "metadata": {},
   "outputs": [],
   "source": []
  }
 ],
 "metadata": {
  "kernelspec": {
   "display_name": "data_science",
   "language": "python",
   "name": "data_science"
  },
  "language_info": {
   "codemirror_mode": {
    "name": "ipython",
    "version": 3
   },
   "file_extension": ".py",
   "mimetype": "text/x-python",
   "name": "python",
   "nbconvert_exporter": "python",
   "pygments_lexer": "ipython3",
   "version": "3.10.9"
  }
 },
 "nbformat": 4,
 "nbformat_minor": 5
}
