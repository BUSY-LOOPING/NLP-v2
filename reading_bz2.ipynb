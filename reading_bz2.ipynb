{
 "cells": [
  {
   "cell_type": "code",
   "execution_count": 1,
   "id": "843abc85-ce38-4e84-b38b-d7e4e5914931",
   "metadata": {},
   "outputs": [],
   "source": [
    "import os\n",
    "import bz2"
   ]
  },
  {
   "cell_type": "code",
   "execution_count": 6,
   "id": "c43fecce-d49c-4cb9-8e46-51ae5c67500a",
   "metadata": {},
   "outputs": [
    {
     "name": "stdout",
     "output_type": "stream",
     "text": [
      "<mediawiki xmlns=\"http://www.mediawiki.org/xml/export-0.10/\" xmlns:xsi=\"http://www.w3.org/2001/XMLSchema-instance\" xsi:schemaLocation=\"http://www.mediawiki.org/xml/export-0.10/ http://www.mediawiki.org/xml/export-0.10.xsd\" version=\"0.10\" xml:lang=\"en\">\n",
      "  <siteinfo>\n",
      "    <sitename>Wikipedia</sitename>\n",
      "    <dbname>enwiki</dbname>\n",
      "    <base>https://en.wikipedia.org/wiki/Main_Page</base>\n",
      "    <generator>MediaWiki 1.41.0-wmf.24</generator>\n",
      "    <case>first-letter</case>\n",
      "    <namespaces>\n",
      "      <namespace key=\"-2\" case=\"first-letter\">Media</namespace>\n",
      "      <namespace key=\"-1\" case=\"first-letter\">Special</namespace>\n",
      "      <namespace key=\"0\" case=\"first-letter\" />\n",
      "      <namespace key=\"1\" case=\"first-letter\">Talk</namespace>\n",
      "      <namespace key=\"2\" case=\"first-letter\">User</namespace>\n",
      "      <namespace key=\"3\" case=\"first-letter\">User talk</namespace>\n",
      "      <namespace key=\"4\" case=\"first-letter\">Wikipedia</namespace>\n",
      "      <namespace key=\"5\" case=\"first-letter\">Wikipedia talk</namespace>\n",
      "      <namespace key=\"6\" case=\"first-letter\">File</namespace>\n",
      "      <namespace key=\"7\" case=\"first-letter\">File talk</namespace>\n",
      "      <namespace key=\"8\" case=\"first-letter\">MediaWiki</namespace>\n",
      "      <namespace key=\"9\" case=\"first-letter\">MediaWiki talk</namespace>\n",
      "      <namespace key=\"10\" case=\"first-letter\">Template</namespace>\n",
      "      <namespace key=\"11\" case=\"first-letter\">Template talk</namespace>\n",
      "      <namespace key=\"12\" case=\"first-letter\">Help</namespace>\n",
      "      <namespace key=\"13\" case=\"first-letter\">Help talk</namespace>\n",
      "      <namespace key=\"14\" case=\"first-letter\">Category</namespace>\n",
      "      <namespace key=\"15\" case=\"first-letter\">Category talk</namespace>\n",
      "      <namespace key=\"100\" case=\"first-letter\">Portal</namespace>\n",
      "      <namespace key=\"101\" case=\"first-letter\">Portal talk</namespace>\n",
      "      <namespace key=\"118\" case=\"first-letter\">Draft</namespace>\n",
      "      <namespace key=\"119\" case=\"first-letter\">Draft talk</namespace>\n",
      "      <namespace key=\"710\" case=\"first-letter\">TimedText</namespace>\n",
      "      <namespace key=\"711\" case=\"first-letter\">TimedText talk</namespace>\n",
      "      <namespace key=\"828\" case=\"first-letter\">Module</namespace>\n",
      "      <namespace key=\"829\" case=\"first-letter\">Module talk</namespace>\n",
      "      <namespace key=\"2300\" case=\"case-sensitive\">Gadget</namespace>\n",
      "      <namespace key=\"2301\" case=\"case-sensitive\">Gadget talk</namespace>\n",
      "      <namespace key=\"2302\" case=\"case-sensitive\">Gadget definition</namespace>\n",
      "      <namespace key=\"2303\" case=\"case-sensitive\">Gadget definition talk</namespace>\n",
      "    </namespaces>\n",
      "  </siteinfo>\n",
      "  <page>\n",
      "    <title>AccessibleComputing</title>\n",
      "    <ns>0</ns>\n",
      "    <id>10</id>\n",
      "    <redirect title=\"Computer accessibility\" />\n",
      "    <revision>\n",
      "      <id>1002250816</id>\n",
      "      <parentid>854851586</parentid>\n",
      "      <timestamp>2021-01-23T15:15:01Z</timestamp>\n",
      "      <contributor>\n",
      "        <username>Elli</username>\n",
      "        <id>20842734</id>\n",
      "      </contributor>\n",
      "      <minor />\n",
      "      <comment>shel</comment>\n",
      "      <model>wikitext</model>\n",
      "      <format>text/x-wiki</format>\n",
      "      <text bytes=\"111\" xml:space=\"preserve\">#REDIRECT [[Computer accessibility]]\n",
      "\n",
      "{{rcat shell|\n",
      "{{R from move}}\n",
      "{{R from CamelCase}}\n",
      "{{R unprintworthy}}\n",
      "}}</text>\n",
      "      <sha1>kmysdltgexdwkv2xsml3j44jb56dxvn</sha1>\n",
      "    </revision>\n",
      "  </page>\n",
      "  <page>\n",
      "    <title>Anarchism</title>\n",
      "    <ns>0</ns>\n",
      "    <id>12</id>\n",
      "    <revision>\n",
      "      <id>1173143824</id>\n",
      "      <parentid>1172966198</parentid>\n",
      "      <timestamp>2023-08-31T15:06:22Z</timestamp>\n",
      "      <contributor>\n",
      "        <username>Citation bot</username>\n",
      "        <id>7903804</id>\n",
      "      </contributor>\n",
      "      <comment>Add: issue. | [[:en:WP:UCB|Use this bot]]. [[:en:WP:DBUG|Report bugs]]. | Suggested by Corvus florensis | #UCB_webform 1919/2500</comment>\n",
      "\n"
     ]
    }
   ],
   "source": [
    "content = ''\n",
    "with open(os.path.join('data', 'enwiki-20230901-pages-articles-multistream1.xml-p1p41242'), encoding='utf-8') as f:\n",
    "    # Decompress data from file\n",
    "    for _ in range(80) :\n",
    "        content += f.readline()\n",
    "    \n",
    "print(content)\n",
    "del content"
   ]
  },
  {
   "cell_type": "code",
   "execution_count": null,
   "id": "c501279c-b485-483b-9765-c2a0bbc32df1",
   "metadata": {},
   "outputs": [],
   "source": []
  }
 ],
 "metadata": {
  "kernelspec": {
   "display_name": "data_science",
   "language": "python",
   "name": "data_science"
  },
  "language_info": {
   "codemirror_mode": {
    "name": "ipython",
    "version": 3
   },
   "file_extension": ".py",
   "mimetype": "text/x-python",
   "name": "python",
   "nbconvert_exporter": "python",
   "pygments_lexer": "ipython3",
   "version": "3.10.9"
  }
 },
 "nbformat": 4,
 "nbformat_minor": 5
}
